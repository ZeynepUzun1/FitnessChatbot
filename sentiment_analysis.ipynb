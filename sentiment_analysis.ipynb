{
 "cells": [
  {
   "cell_type": "code",
   "execution_count": 2,
   "id": "01afa618",
   "metadata": {},
   "outputs": [
    {
     "name": "stderr",
     "output_type": "stream",
     "text": [
      "2025-06-10 22:13:21.238680: I tensorflow/core/platform/cpu_feature_guard.cc:210] This TensorFlow binary is optimized to use available CPU instructions in performance-critical operations.\n",
      "To enable the following instructions: AVX2 FMA, in other operations, rebuild TensorFlow with the appropriate compiler flags.\n"
     ]
    }
   ],
   "source": [
    "import pandas as pd\n",
    "import re\n",
    "import string\n",
    "from sklearn.model_selection import train_test_split\n",
    "from sklearn.preprocessing import LabelEncoder\n",
    "from sklearn.metrics import classification_report, accuracy_score\n",
    "import tensorflow as tf\n",
    "from tensorflow.keras.models import Sequential\n",
    "from tensorflow.keras.layers import Dense, Dropout, Embedding, Bidirectional, LSTM\n",
    "from tensorflow.keras.preprocessing.text import Tokenizer\n",
    "from tensorflow.keras.preprocessing.sequence import pad_sequences\n",
    "from tensorflow.keras.callbacks import EarlyStopping"
   ]
  },
  {
   "cell_type": "code",
   "execution_count": 3,
   "id": "60110746",
   "metadata": {},
   "outputs": [
    {
     "data": {
      "text/html": [
       "<div>\n",
       "<style scoped>\n",
       "    .dataframe tbody tr th:only-of-type {\n",
       "        vertical-align: middle;\n",
       "    }\n",
       "\n",
       "    .dataframe tbody tr th {\n",
       "        vertical-align: top;\n",
       "    }\n",
       "\n",
       "    .dataframe thead th {\n",
       "        text-align: right;\n",
       "    }\n",
       "</style>\n",
       "<table border=\"1\" class=\"dataframe\">\n",
       "  <thead>\n",
       "    <tr style=\"text-align: right;\">\n",
       "      <th></th>\n",
       "      <th>target</th>\n",
       "      <th>text</th>\n",
       "    </tr>\n",
       "  </thead>\n",
       "  <tbody>\n",
       "    <tr>\n",
       "      <th>0</th>\n",
       "      <td>0</td>\n",
       "      <td>@switchfoot http://twitpic.com/2y1zl - Awww, t...</td>\n",
       "    </tr>\n",
       "    <tr>\n",
       "      <th>1</th>\n",
       "      <td>0</td>\n",
       "      <td>is upset that he can't update his Facebook by ...</td>\n",
       "    </tr>\n",
       "    <tr>\n",
       "      <th>2</th>\n",
       "      <td>0</td>\n",
       "      <td>@Kenichan I dived many times for the ball. Man...</td>\n",
       "    </tr>\n",
       "    <tr>\n",
       "      <th>3</th>\n",
       "      <td>0</td>\n",
       "      <td>my whole body feels itchy and like its on fire</td>\n",
       "    </tr>\n",
       "    <tr>\n",
       "      <th>4</th>\n",
       "      <td>0</td>\n",
       "      <td>@nationwideclass no, it's not behaving at all....</td>\n",
       "    </tr>\n",
       "  </tbody>\n",
       "</table>\n",
       "</div>"
      ],
      "text/plain": [
       "   target                                               text\n",
       "0       0  @switchfoot http://twitpic.com/2y1zl - Awww, t...\n",
       "1       0  is upset that he can't update his Facebook by ...\n",
       "2       0  @Kenichan I dived many times for the ball. Man...\n",
       "3       0    my whole body feels itchy and like its on fire \n",
       "4       0  @nationwideclass no, it's not behaving at all...."
      ]
     },
     "execution_count": 3,
     "metadata": {},
     "output_type": "execute_result"
    }
   ],
   "source": [
    "df = pd.read_csv(\"training.csv\", encoding=\"latin1\", header=None, names=[\"target\", \"ids\", \"date\", \"flag\", \"user\", \"text\"])\n",
    "df.drop(columns=[\"flag\", \"date\", \"ids\", \"user\"], inplace=True)\n",
    "df[\"target\"].astype(int)\n",
    "df.head()"
   ]
  },
  {
   "cell_type": "code",
   "execution_count": 4,
   "id": "d2b5a4d3",
   "metadata": {},
   "outputs": [
    {
     "name": "stdout",
     "output_type": "stream",
     "text": [
      "<class 'pandas.core.frame.DataFrame'>\n",
      "RangeIndex: 1600000 entries, 0 to 1599999\n",
      "Data columns (total 2 columns):\n",
      " #   Column  Non-Null Count    Dtype \n",
      "---  ------  --------------    ----- \n",
      " 0   target  1600000 non-null  int64 \n",
      " 1   text    1600000 non-null  object\n",
      "dtypes: int64(1), object(1)\n",
      "memory usage: 24.4+ MB\n"
     ]
    }
   ],
   "source": [
    "df.info()"
   ]
  },
  {
   "cell_type": "code",
   "execution_count": 5,
   "id": "ac5ff7dd",
   "metadata": {},
   "outputs": [],
   "source": [
    "df = df.sample(n=50000).reset_index(drop=True)\n",
    "\n",
    "def mapping(target_num):\n",
    "    if target_num == 0:\n",
    "        return \"sad\"\n",
    "    else:\n",
    "        return \"happy\"\n",
    "    \n",
    "df[\"sentiment\"] = df[\"target\"].apply(mapping)"
   ]
  },
  {
   "cell_type": "code",
   "execution_count": 6,
   "id": "33245ed9",
   "metadata": {},
   "outputs": [
    {
     "name": "stdout",
     "output_type": "stream",
     "text": [
      "sentiment\n",
      "sad      25040\n",
      "happy    24960\n",
      "Name: count, dtype: int64\n"
     ]
    }
   ],
   "source": [
    "print(df[\"sentiment\"].value_counts())\n"
   ]
  },
  {
   "cell_type": "code",
   "execution_count": null,
   "id": "c160d175",
   "metadata": {},
   "outputs": [
    {
     "name": "stdout",
     "output_type": "stream",
     "text": [
      "\n",
      "Minimum class count: 24960\n",
      "\n",
      "Class distribution after balancing:\n",
      "sentiment\n",
      "happy    24960\n",
      "sad      24960\n",
      "Name: count, dtype: int64\n",
      "\n",
      "Applying preprocessing to the 'text' column...\n",
      "\n",
      "Sample rows from the preprocessed DataFrame:\n",
      "   target                                               text sentiment  \\\n",
      "0       4               Listening to Prince makes me smile.      happy   \n",
      "1       4  Morning everyone! I'm at work already. Just an...     happy   \n",
      "2       4  @Twinklybird Then you'll be bored senseless!!!...     happy   \n",
      "3       4                                      Good morning      happy   \n",
      "4       4  Also, Sun eve cinema was nearly empty for Star...     happy   \n",
      "\n",
      "                                          clean_text  \n",
      "0                 listening to prince makes me smile  \n",
      "1  morning everyone im at work already just anoth...  \n",
      "2  then youll be bored senseless p best of luck o...  \n",
      "3                                       good morning  \n",
      "4  also sun eve cinema was nearly empty for star ...  \n",
      "\n",
      "Splitting the data into training and testing sets...\n"
     ]
    }
   ],
   "source": [
    "min_count = df['sentiment'].value_counts().min()\n",
    "print(f\"\\nMinimum class count: {min_count}\")\n",
    "\n",
    "balanced_data = df.groupby('sentiment').apply(lambda x: x.sample(n=min_count, random_state=42)).reset_index(drop=True)\n",
    "\n",
    "print(\"\\nClass distribution after balancing:\")\n",
    "print(balanced_data['sentiment'].value_counts())\n",
    "\n",
    "def clean_tweet(text):\n",
    "    text = re.sub(r'http\\S+|www\\S+|https\\S+', '', text, flags=re.MULTILINE)\n",
    "    text = re.sub(r'\\@\\w+|\\#','', text)\n",
    "    text = text.translate(str.maketrans('', '', string.punctuation))\n",
    "    text = re.sub(r'\\d+', '', text)\n",
    "    text = text.lower()\n",
    "    return text.strip()\n",
    "\n",
    "print(\"\\nApplying preprocessing to the 'text' column...\")\n",
    "balanced_data['clean_text'] = balanced_data['text'].apply(clean_tweet)\n",
    "\n",
    "print(\"\\nSample rows from the preprocessed DataFrame:\")\n",
    "print(balanced_data.head())\n",
    "\n",
    "print(\"\\nSplitting the data into training and testing sets...\")\n",
    "X = balanced_data['clean_text']\n",
    "y = balanced_data['sentiment']\n"
   ]
  },
  {
   "cell_type": "code",
   "execution_count": null,
   "id": "13980c92",
   "metadata": {},
   "outputs": [
    {
     "name": "stdout",
     "output_type": "stream",
     "text": [
      "\n",
      "Tokenizing and padding text data...\n",
      "\n",
      "Building the neural network model...\n",
      "\n",
      "Training the model...\n",
      "Epoch 1/20\n",
      "\u001b[1m71/71\u001b[0m \u001b[32m━━━━━━━━━━━━━━━━━━━━\u001b[0m\u001b[37m\u001b[0m \u001b[1m47s\u001b[0m 574ms/step - accuracy: 0.5894 - loss: 0.6604 - val_accuracy: 0.7521 - val_loss: 0.5142\n",
      "Epoch 2/20\n",
      "\u001b[1m71/71\u001b[0m \u001b[32m━━━━━━━━━━━━━━━━━━━━\u001b[0m\u001b[37m\u001b[0m \u001b[1m40s\u001b[0m 567ms/step - accuracy: 0.7847 - loss: 0.4705 - val_accuracy: 0.7661 - val_loss: 0.5007\n",
      "Epoch 3/20\n",
      "\u001b[1m71/71\u001b[0m \u001b[32m━━━━━━━━━━━━━━━━━━━━\u001b[0m\u001b[37m\u001b[0m \u001b[1m40s\u001b[0m 566ms/step - accuracy: 0.8330 - loss: 0.3914 - val_accuracy: 0.7659 - val_loss: 0.5031\n",
      "Epoch 4/20\n",
      "\u001b[1m71/71\u001b[0m \u001b[32m━━━━━━━━━━━━━━━━━━━━\u001b[0m\u001b[37m\u001b[0m \u001b[1m39s\u001b[0m 544ms/step - accuracy: 0.8561 - loss: 0.3457 - val_accuracy: 0.7431 - val_loss: 0.5548\n",
      "\n",
      "Evaluating the model on the test set...\n",
      "\u001b[1m312/312\u001b[0m \u001b[32m━━━━━━━━━━━━━━━━━━━━\u001b[0m\u001b[37m\u001b[0m \u001b[1m5s\u001b[0m 16ms/step\n",
      "\n",
      "Test Accuracy: 0.7669\n",
      "\n",
      "Classification Report:\n",
      "              precision    recall  f1-score   support\n",
      "\n",
      "       happy       0.81      0.70      0.75      4992\n",
      "         sad       0.74      0.83      0.78      4992\n",
      "\n",
      "    accuracy                           0.77      9984\n",
      "   macro avg       0.77      0.77      0.77      9984\n",
      "weighted avg       0.77      0.77      0.77      9984\n",
      "\n"
     ]
    }
   ],
   "source": [
    "MAX_NUM_WORDS = 15000\n",
    "MAX_SEQUENCE_LENGTH = 100 \n",
    "EMBEDDING_DIM = 100 \n",
    "BATCH_SIZE = 512\n",
    "EPOCHS = 30\n",
    "\n",
    "label_encoder = LabelEncoder()\n",
    "y_encoded = label_encoder.fit_transform(y)\n",
    "\n",
    "X_train, X_test, y_train, y_test = train_test_split(\n",
    "    X, y_encoded, test_size=0.2, random_state=42, stratify=y_encoded\n",
    ")\n",
    "\n",
    "print(\"\\nTokenizing and padding text data...\")\n",
    "tokenizer = Tokenizer(num_words=MAX_NUM_WORDS, oov_token=\"<OOV>\")\n",
    "tokenizer.fit_on_texts(X_train)\n",
    "\n",
    "X_train_sequences = tokenizer.texts_to_sequences(X_train)\n",
    "X_test_sequences = tokenizer.texts_to_sequences(X_test)\n",
    "\n",
    "X_train_padded = pad_sequences(\n",
    "    X_train_sequences, maxlen=MAX_SEQUENCE_LENGTH, padding='post', truncating='post'\n",
    ")\n",
    "X_test_padded = pad_sequences(\n",
    "    X_test_sequences, maxlen=MAX_SEQUENCE_LENGTH, padding='post', truncating='post'\n",
    ")\n",
    "\n",
    "\n",
    "print(\"\\nBuilding the neural network model...\")\n",
    "model = Sequential([\n",
    "    Embedding(input_dim=MAX_NUM_WORDS, output_dim=EMBEDDING_DIM),\n",
    "    Bidirectional(LSTM(64, return_sequences=False)),\n",
    "    Dropout(0.6),\n",
    "    Dense(64, activation='relu'),\n",
    "    Dense(1, activation='sigmoid')\n",
    "])\n",
    "\n",
    "# Compile the model\n",
    "model.compile(\n",
    "    loss='binary_crossentropy',\n",
    "    optimizer='adam',\n",
    "    metrics=['accuracy']\n",
    ")\n",
    "\n",
    "early_stop = EarlyStopping(monitor='val_loss', patience=2, restore_best_weights=True)\n",
    "\n",
    "# Train the model with multiple epochs\n",
    "print(\"\\nTraining the model...\")\n",
    "history = model.fit(\n",
    "    X_train_padded,\n",
    "    y_train,\n",
    "    epochs=EPOCHS,\n",
    "    batch_size=BATCH_SIZE,\n",
    "    validation_split=0.1,\n",
    "    callbacks=[early_stop],\n",
    "    verbose=1\n",
    ")\n",
    "\n",
    "# Evaluate the model\n",
    "print(\"\\nEvaluating the model on the test set...\")\n",
    "y_pred = model.predict(X_test_padded)\n",
    "y_pred_classes = (y_pred > 0.5).astype(int).reshape(-1)\n",
    "\n",
    "accuracy = accuracy_score(y_test, y_pred_classes)\n",
    "print(f\"\\nTest Accuracy: {accuracy:.4f}\")\n",
    "\n",
    "print(\"\\nClassification Report:\")\n",
    "print(classification_report(y_test, y_pred_classes, target_names=label_encoder.classes_))\n"
   ]
  },
  {
   "cell_type": "code",
   "execution_count": 10,
   "id": "a85e4ebf",
   "metadata": {},
   "outputs": [
    {
     "name": "stdout",
     "output_type": "stream",
     "text": [
      "['happy' 'sad']\n"
     ]
    }
   ],
   "source": [
    "print(label_encoder.classes_)\n"
   ]
  },
  {
   "cell_type": "code",
   "execution_count": 9,
   "id": "b4f91412",
   "metadata": {},
   "outputs": [
    {
     "name": "stderr",
     "output_type": "stream",
     "text": [
      "WARNING:absl:You are saving your model as an HDF5 file via `model.save()` or `keras.saving.save_model(model)`. This file format is considered legacy. We recommend using instead the native Keras format, e.g. `model.save('my_model.keras')` or `keras.saving.save_model(model, 'my_model.keras')`. \n"
     ]
    }
   ],
   "source": [
    "import pickle\n",
    "\n",
    "model.save(\"sentiment_model.h5\")\n",
    "with open(\"tokenizer.pkl\", \"wb\") as f:\n",
    "    pickle.dump(tokenizer, f)\n"
   ]
  }
 ],
 "metadata": {
  "kernelspec": {
   "display_name": "DSA201",
   "language": "python",
   "name": "python3"
  },
  "language_info": {
   "codemirror_mode": {
    "name": "ipython",
    "version": 3
   },
   "file_extension": ".py",
   "mimetype": "text/x-python",
   "name": "python",
   "nbconvert_exporter": "python",
   "pygments_lexer": "ipython3",
   "version": "3.12.5"
  }
 },
 "nbformat": 4,
 "nbformat_minor": 5
}
